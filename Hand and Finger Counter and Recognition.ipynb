{
 "cells": [
  {
   "cell_type": "markdown",
   "id": "5dc4136e",
   "metadata": {},
   "source": [
    "### Importing Libraries"
   ]
  },
  {
   "cell_type": "code",
   "execution_count": 1,
   "id": "fe9f0291",
   "metadata": {},
   "outputs": [
    {
     "name": "stderr",
     "output_type": "stream",
     "text": [
      "objc[66356]: Class CaptureDelegate is implemented in both /Users/adilbhatti/anaconda3/lib/python3.9/site-packages/cv2/cv2.abi3.so (0x1516124d0) and /Users/adilbhatti/anaconda3/lib/python3.9/site-packages/mediapipe/.dylibs/libopencv_videoio.3.4.16.dylib (0x117e34860). One of the two will be used. Which one is undefined.\n",
      "objc[66356]: Class CVWindow is implemented in both /Users/adilbhatti/anaconda3/lib/python3.9/site-packages/cv2/cv2.abi3.so (0x151612520) and /Users/adilbhatti/anaconda3/lib/python3.9/site-packages/mediapipe/.dylibs/libopencv_highgui.3.4.16.dylib (0x1125d8a68). One of the two will be used. Which one is undefined.\n",
      "objc[66356]: Class CVView is implemented in both /Users/adilbhatti/anaconda3/lib/python3.9/site-packages/cv2/cv2.abi3.so (0x151612548) and /Users/adilbhatti/anaconda3/lib/python3.9/site-packages/mediapipe/.dylibs/libopencv_highgui.3.4.16.dylib (0x1125d8a90). One of the two will be used. Which one is undefined.\n",
      "objc[66356]: Class CVSlider is implemented in both /Users/adilbhatti/anaconda3/lib/python3.9/site-packages/cv2/cv2.abi3.so (0x151612570) and /Users/adilbhatti/anaconda3/lib/python3.9/site-packages/mediapipe/.dylibs/libopencv_highgui.3.4.16.dylib (0x1125d8ab8). One of the two will be used. Which one is undefined.\n"
     ]
    }
   ],
   "source": [
    "import cv2 as cv\n",
    "import time \n",
    "import numpy as np\n",
    "import mediapipe as mp\n",
    "import matplotlib.pyplot as plt\n",
    "import math\n",
    "import osascript"
   ]
  },
  {
   "cell_type": "code",
   "execution_count": 22,
   "id": "7465e28d",
   "metadata": {},
   "outputs": [
    {
     "name": "stdout",
     "output_type": "stream",
     "text": [
      "rm: mediapipe: No such file or directory\r\n"
     ]
    }
   ],
   "source": [
    "!rm -r mediapipe\n",
    "\n"
   ]
  },
  {
   "cell_type": "code",
   "execution_count": 23,
   "id": "0aac409b",
   "metadata": {},
   "outputs": [
    {
     "name": "stdout",
     "output_type": "stream",
     "text": [
      "\r\n",
      "Usage:   \r\n",
      "  pip <command> [options]\r\n",
      "\r\n",
      "Commands:\r\n",
      "  install                     Install packages.\r\n",
      "  download                    Download packages.\r\n",
      "  uninstall                   Uninstall packages.\r\n",
      "  freeze                      Output installed packages in requirements format.\r\n",
      "  list                        List installed packages.\r\n",
      "  show                        Show information about installed packages.\r\n",
      "  check                       Verify installed packages have compatible dependencies.\r\n",
      "  config                      Manage local and global configuration.\r\n",
      "  search                      Search PyPI for packages.\r\n",
      "  cache                       Inspect and manage pip's wheel cache.\r\n",
      "  index                       Inspect information available from package indexes.\r\n",
      "  wheel                       Build wheels from your requirements.\r\n",
      "  hash                        Compute hashes of package archives.\r\n",
      "  completion                  A helper command used for command completion.\r\n",
      "  debug                       Show information useful for debugging.\r\n",
      "  help                        Show help for commands.\r\n",
      "\r\n",
      "General Options:\r\n",
      "  -h, --help                  Show help.\r\n",
      "  --isolated                  Run pip in an isolated mode, ignoring\r\n",
      "                              environment variables and user configuration.\r\n",
      "  -v, --verbose               Give more output. Option is additive, and can be\r\n",
      "                              used up to 3 times.\r\n",
      "  -V, --version               Show version and exit.\r\n",
      "  -q, --quiet                 Give less output. Option is additive, and can be\r\n",
      "                              used up to 3 times (corresponding to WARNING,\r\n",
      "                              ERROR, and CRITICAL logging levels).\r\n",
      "  --log <path>                Path to a verbose appending log.\r\n",
      "  --no-input                  Disable prompting for input.\r\n",
      "  --proxy <proxy>             Specify a proxy in the form\r\n",
      "                              [user:passwd@]proxy.server:port.\r\n",
      "  --retries <retries>         Maximum number of retries each connection should\r\n",
      "                              attempt (default 5 times).\r\n",
      "  --timeout <sec>             Set the socket timeout (default 15 seconds).\r\n",
      "  --exists-action <action>    Default action when a path already exists:\r\n",
      "                              (s)witch, (i)gnore, (w)ipe, (b)ackup, (a)bort.\r\n",
      "  --trusted-host <hostname>   Mark this host or host:port pair as trusted,\r\n",
      "                              even though it does not have valid or any HTTPS.\r\n",
      "  --cert <path>               Path to PEM-encoded CA certificate bundle. If\r\n",
      "                              provided, overrides the default. See 'SSL\r\n",
      "                              Certificate Verification' in pip documentation\r\n",
      "                              for more information.\r\n",
      "  --client-cert <path>        Path to SSL client certificate, a single file\r\n",
      "                              containing the private key and the certificate\r\n",
      "                              in PEM format.\r\n",
      "  --cache-dir <dir>           Store the cache data in <dir>.\r\n",
      "  --no-cache-dir              Disable the cache.\r\n",
      "  --disable-pip-version-check\r\n",
      "                              Don't periodically check PyPI to determine\r\n",
      "                              whether a new version of pip is available for\r\n",
      "                              download. Implied with --no-index.\r\n",
      "  --no-color                  Suppress colored output.\r\n",
      "  --no-python-version-warning\r\n",
      "                              Silence deprecation warnings for upcoming\r\n",
      "                              unsupported Pythons.\r\n",
      "  --use-feature <feature>     Enable new functionality, that may be backward\r\n",
      "                              incompatible.\r\n",
      "  --use-deprecated <feature>  Enable deprecated functionality, that will be\r\n",
      "                              removed in the future.\r\n"
     ]
    }
   ],
   "source": [
    "!pip"
   ]
  },
  {
   "cell_type": "markdown",
   "id": "a329e4ac",
   "metadata": {},
   "source": [
    "### Hand Landmark Detection Model"
   ]
  },
  {
   "cell_type": "code",
   "execution_count": 2,
   "id": "1276bb90",
   "metadata": {},
   "outputs": [
    {
     "name": "stderr",
     "output_type": "stream",
     "text": [
      "INFO: Created TensorFlow Lite XNNPACK delegate for CPU.\n"
     ]
    }
   ],
   "source": [
    "# hands class\n",
    "mp_hands = mp.solutions.hands\n",
    "\n",
    "# setting up hand functions\n",
    "hands = mp_hands.Hands(min_detection_confidence = 0.70)\n",
    "\n",
    "# drawing class\n",
    "mp_draw = mp.solutions.drawing_utils"
   ]
  },
  {
   "cell_type": "markdown",
   "id": "0e9c135e",
   "metadata": {},
   "source": [
    "### Making a function to preform hand landmark detection"
   ]
  },
  {
   "cell_type": "code",
   "execution_count": 3,
   "id": "b1d486d6",
   "metadata": {},
   "outputs": [],
   "source": [
    "# Returns resulting image and results\n",
    "def detectHandLandmarks(img, hands, draw=True):\n",
    "    output_img = img.copy()\n",
    "    imgRGB = cv.cvtColor(img, cv.COLOR_BGR2RGB)\n",
    "    results = hands.process(imgRGB)\n",
    "    \n",
    "    if results.multi_hand_landmarks and draw:\n",
    "        for hand_landmark in results.multi_hand_landmarks:\n",
    "            mp_draw.draw_landmarks(image = output_img, landmark_list = hand_landmark,\n",
    "                                      connections = mp_hands.HAND_CONNECTIONS,\n",
    "                                      landmark_drawing_spec = mp_draw.DrawingSpec(color=(0,0,255),\n",
    "                                                                                  thickness=5, circle_radius=5),\n",
    "                                      connection_drawing_spec=mp_draw.DrawingSpec(color = (255,255,255),\n",
    "                                                                                     thickness = 2, circle_radius = 10))\n",
    "    return (output_img, results)      "
   ]
  },
  {
   "cell_type": "markdown",
   "id": "2cde1a46",
   "metadata": {},
   "source": [
    "### Miscilaneous"
   ]
  },
  {
   "cell_type": "code",
   "execution_count": 6,
   "id": "3252db19",
   "metadata": {},
   "outputs": [],
   "source": [
    "# Text\n",
    "font                   = cv.FONT_HERSHEY_SIMPLEX\n",
    "fontScale              = 2\n",
    "fontColor              = (255,255,0)\n",
    "thickness              = 5\n",
    "lineType               = 2\n"
   ]
  },
  {
   "cell_type": "markdown",
   "id": "4e591c51",
   "metadata": {},
   "source": [
    "### Video Capture"
   ]
  },
  {
   "cell_type": "code",
   "execution_count": 11,
   "id": "7164afed",
   "metadata": {},
   "outputs": [],
   "source": [
    "cap = cv.VideoCapture(0)\n",
    "ptime = ctime = 0\n",
    "\n",
    "while cap.isOpened():\n",
    "    ret, img = cap.read()\n",
    "    if not ctime:\n",
    "        h, w, c = img.shape\n",
    "    if ret:\n",
    "        drawn_img, results = detectHandLandmarks(img, hands)\n",
    "        ctime = time.time()\n",
    "        fps = 1/(ctime-ptime)\n",
    "        ptime = ctime\n",
    "        cv.putText(drawn_img,f'FPS: {int(fps)}', (50, 70), font, fontScale,fontColor,thickness,lineType)\n",
    "        thumbs_up = True\n",
    "        # Labeling the landmarks also calculates if thumbs is highest y coordinate\n",
    "        if results.multi_hand_landmarks:\n",
    "            for handLms in results.multi_hand_landmarks:\n",
    "                thumb_y = (handLms.landmark[4].y * h)\n",
    "                for i, lm in enumerate(handLms.landmark):\n",
    "                        cx = math.ceil(w * lm.x)\n",
    "                        cy = math.ceil(h * lm.y)\n",
    "                        thumbs_up &= (thumb_y < cy) \n",
    "                        if not i:\n",
    "                            cv.circle(drawn_img, (cx, cy), 30, (0, 0, 0), -1)\n",
    "                            cv.putText(drawn_img,f'{i}', (cx-10, cy+5), font, 1,(255,255,255),thickness,lineType)\n",
    "                        elif not i%4 :\n",
    "                            cv.circle(drawn_img, (cx, cy), 30, (0, 0, 255), -1)\n",
    "                            cv.putText(drawn_img,f'{i}', (cx-10, cy+5), font, 1,(255,255,255),thickness,lineType)\n",
    "                        elif not (i+2)%4 :\n",
    "                            cv.circle(drawn_img, (cx, cy), 30, (255, 0, 0), -1)\n",
    "                            cv.putText(drawn_img,f'{i}', (cx-10, cy+5), font, 1,(255,255,255),thickness,lineType)\n",
    "        else:\n",
    "            thumbs_up = False\n",
    "        \n",
    "        if thumbs_up:\n",
    "            cv.putText(drawn_img,\"Thumbs UP!\", (w - 300, 70), font, 1,(205,20,205),thickness,lineType)\n",
    "        cv.imshow(\"Webcam\", drawn_img)\n",
    "    if cv.waitKey(1) & 0xFF == ord('q'):\n",
    "        break\n",
    "    \n",
    "cap.release()\n",
    "cv.destroyAllWindows()"
   ]
  },
  {
   "cell_type": "markdown",
   "id": "536356ee",
   "metadata": {},
   "source": [
    "### Building finger counter (Lets build based on distance from wrist for the tip of finger)"
   ]
  },
  {
   "cell_type": "code",
   "execution_count": 10,
   "id": "4a4ae6bd",
   "metadata": {},
   "outputs": [],
   "source": [
    "def fingerCounter(img, hands, draw = True):\n",
    "    finger_status = {\n",
    "    \"RIGHT THUMB\": False,\n",
    "    \"RIGHT INDEX\": False,\n",
    "    \"RIGHT MIDDLE\": False,\n",
    "    \"RIGHT RING\": False,\n",
    "    \"RIGHT PINKY\": False,\n",
    "    \"LEFT THUMB\": False,\n",
    "    \"LEFT INDEX\": False,\n",
    "    \"LEFT MIDDLE\": False,\n",
    "    \"LEFT RING\": False,\n",
    "    \"LEFT PINKY\": False}\n",
    "    \n",
    "    finger_tips = {\"THUMB\": 4,\n",
    "                   \"INDEX\": 8,\n",
    "                   \"MIDDLE\": 12,\n",
    "                   \"RING\": 16,\n",
    "                   \"PINKY\": 20}\n",
    " \n",
    "    output_img = img.copy()\n",
    "    rgbimg = cv.cvtColor(img, cv.COLOR_BGR2RGB)\n",
    "    result = hands.process(rgbimg)\n",
    "    hand = {\"RIGHT\": False, \"LEFT\": False}\n",
    "    counts = {\"RIGHT\": 0, \"LEFT\": 0}\n",
    "    if result.multi_handedness:\n",
    "        for hand_index, handLmk in enumerate(result.multi_handedness):\n",
    "            hand_label = handLmk.classification[0].label.upper()\n",
    "            hand[hand_label] = True\n",
    "            hand_landmarks = result.multi_hand_landmarks[hand_index]\n",
    "            wrist = (hand_landmarks.landmark[0].x, hand_landmarks.landmark[0].y)\n",
    "            for key, val in finger_tips.items():\n",
    "                finger = hand_label + \" \" + key\n",
    "                tip = (hand_landmarks.landmark[val].x, hand_landmarks.landmark[val].y)\n",
    "                if key == \"THUMB\":\n",
    "                    knuckle = (hand_landmarks.landmark[13].x, hand_landmarks.landmark[13].y)\n",
    "                    joint = (hand_landmarks.landmark[3].x, hand_landmarks.landmark[3].y)\n",
    "                    finger_status[finger] = math.dist(tip, knuckle) > math.dist(joint, knuckle)\n",
    "                else:\n",
    "                    joint1 = (hand_landmarks.landmark[val - 1].x, hand_landmarks.landmark[val - 1].y)\n",
    "                    joint2 = (hand_landmarks.landmark[val - 1].x, hand_landmarks.landmark[val - 1].y)\n",
    "                    finger_status[finger] = math.dist(tip, wrist) > math.dist(joint, wrist)\n",
    "#                 if math.dist(tip, wrist) > math.dist(joint, wrist) - delta:\n",
    "#                     print(\"YAy\", finger, finger_status[finger])\n",
    "               \n",
    "                if finger_status[finger]:\n",
    "                    counts[hand_label] += 1\n",
    "\n",
    "\n",
    "    if result.multi_hand_landmarks and draw:\n",
    "        for hand_landmark in result.multi_hand_landmarks:\n",
    "            mp_draw.draw_landmarks(image = output_img, landmark_list = hand_landmark,\n",
    "                                      connections = mp_hands.HAND_CONNECTIONS,\n",
    "                                      landmark_drawing_spec = mp_draw.DrawingSpec(color=(0,0,255),\n",
    "                                                                                  thickness=5, circle_radius=5),\n",
    "                                      connection_drawing_spec=mp_draw.DrawingSpec(color = (255,255,255),\n",
    "                                                                                     thickness = 10, circle_radius = 10))\n",
    "    return output_img, result, counts, finger_status, hand\n",
    "                "
   ]
  },
  {
   "cell_type": "markdown",
   "id": "d80843b3",
   "metadata": {},
   "source": [
    "### FINGER Counter???"
   ]
  },
  {
   "cell_type": "code",
   "execution_count": 14,
   "id": "5f87ed2e",
   "metadata": {},
   "outputs": [
    {
     "ename": "KeyboardInterrupt",
     "evalue": "",
     "output_type": "error",
     "traceback": [
      "\u001b[0;31m---------------------------------------------------------------------------\u001b[0m",
      "\u001b[0;31mKeyboardInterrupt\u001b[0m                         Traceback (most recent call last)",
      "Cell \u001b[0;32mIn[14], line 51\u001b[0m\n\u001b[1;32m     48\u001b[0m             drawn_img \u001b[38;5;241m=\u001b[39m cv\u001b[38;5;241m.\u001b[39mline(drawn_img, (sx, sy), (ex, ey), (\u001b[38;5;241m0\u001b[39m, \u001b[38;5;241m255\u001b[39m, \u001b[38;5;241m0\u001b[39m), thickness\u001b[38;5;241m=\u001b[39m\u001b[38;5;241m5\u001b[39m)\n\u001b[1;32m     49\u001b[0m         cv\u001b[38;5;241m.\u001b[39mimshow(\u001b[38;5;124m\"\u001b[39m\u001b[38;5;124mWebcam\u001b[39m\u001b[38;5;124m\"\u001b[39m, drawn_img)\n\u001b[0;32m---> 51\u001b[0m     \u001b[38;5;28;01mif\u001b[39;00m \u001b[43mcv\u001b[49m\u001b[38;5;241;43m.\u001b[39;49m\u001b[43mwaitKey\u001b[49m\u001b[43m(\u001b[49m\u001b[38;5;241;43m1\u001b[39;49m\u001b[43m)\u001b[49m \u001b[38;5;241m&\u001b[39m \u001b[38;5;241m0xFF\u001b[39m \u001b[38;5;241m==\u001b[39m \u001b[38;5;28mord\u001b[39m(\u001b[38;5;124m'\u001b[39m\u001b[38;5;124mq\u001b[39m\u001b[38;5;124m'\u001b[39m):\n\u001b[1;32m     52\u001b[0m         \u001b[38;5;28;01mbreak\u001b[39;00m\n\u001b[1;32m     54\u001b[0m cap\u001b[38;5;241m.\u001b[39mrelease()\n",
      "\u001b[0;31mKeyboardInterrupt\u001b[0m: "
     ]
    }
   ],
   "source": [
    "cap = cv.VideoCapture(0)\n",
    "ptime = ctime = 0\n",
    "\n",
    "while cap.isOpened():\n",
    "    ret, img = cap.read()\n",
    "    if not ctime:\n",
    "        h, w, c = img.shape\n",
    "    if ret:\n",
    "        drawn_img, results, count, finger_status, hand = fingerCounter(img, hands, True)\n",
    "        ctime = time.time()\n",
    "        fps = 1/(ctime-ptime)\n",
    "        ptime = ctime\n",
    "        dist = -1\n",
    "        cv.putText(drawn_img,f'FPS: {int(fps)}', (50, 70), font, fontScale,fontColor,thickness,lineType)\n",
    "        # Labeling the landmarks also calculates if thumbs is highest y coordinate\n",
    "        cv.putText(drawn_img,str(count['RIGHT'] + count['LEFT']), (4 * w // 5, h // 4), font, 5,(0,255,0),thickness,lineType)\n",
    "        if hand['RIGHT']:\n",
    "            if not count['RIGHT'] or (count['RIGHT'] == 1 and finger_status['RIGHT THUMB']):\n",
    "                cv.putText(drawn_img,\"ROCK\", (8 * w // 11, h // 2), font, 5,(0,0,0),thickness,lineType)\n",
    "            elif count['RIGHT'] == 5:\n",
    "                cv.putText(drawn_img,\"PAPER\", (8 * w // 11 , h // 2), font, 5,(0,0,0),thickness,lineType)\n",
    "            elif 2 <= count['RIGHT'] <= 3 and not (finger_status['RIGHT PINKY'] or finger_status['RIGHT RING']) and (finger_status['RIGHT INDEX'] and finger_status['RIGHT MIDDLE']):\n",
    "                cv.putText(drawn_img,\"SCISSORS\", (6 * w // 11 , h // 2), font, 5,(0,0,0),thickness,lineType)\n",
    "        if hand['LEFT']:\n",
    "            if not count['LEFT'] or (count['LEFT'] == 1 and finger_status['LEFT THUMB']):\n",
    "                cv.putText(drawn_img,\"ROCK\", (0 , h // 2), font, 5,(0,0,0),thickness,lineType)\n",
    "            elif count['LEFT'] == 5:\n",
    "                cv.putText(drawn_img,\"PAPER\", (0 , h // 2), font, 5,(0,0,0),thickness,lineType)\n",
    "            elif 2 <= count['LEFT'] <= 3 and not (finger_status['LEFT PINKY'] or finger_status['LEFT RING']) and (finger_status['LEFT INDEX'] and finger_status['LEFT MIDDLE']):\n",
    "                cv.putText(drawn_img,\"SCISSORS\", (0 * w // 11 , h // 2), font, 5,(0,0,0),thickness,lineType)\n",
    "        if results.multi_hand_landmarks:\n",
    "            for handLMS in results.multi_hand_landmarks:\n",
    "                sx = int(handLMS.landmark[4].x * w)\n",
    "                sy = int(handLMS.landmark[4].y * h)\n",
    "                ex = int(handLMS.landmark[8].x * w)\n",
    "                ey = int(handLMS.landmark[8].y * h)\n",
    "                drawn_img = cv.line(drawn_img, (sx, sy), (ex, ey), (0,255,255), 2)\n",
    "                dist = math.dist((sx, sy), (ex, ey))\n",
    "        #cv.putText(drawn_img,\"DIST APART \"+ str(dist), (0,h//2), font, 5,(255,255,255),thickness,lineType)\n",
    "        if dist!=-1: \n",
    "            if dist <= 50:\n",
    "                target_volume = 0\n",
    "            elif dist >= 500:\n",
    "                target_volume = 100\n",
    "            else:\n",
    "                target_volume = int(((dist - 50)/450) * 100)\n",
    "            osascript.osascript(\"set volume output volume {}\".format(target_volume))\n",
    "            drawn_img = cv.line(drawn_img, (sx, sy), (ex, ey), (0, 255, 0), thickness=5)\n",
    "        cv.imshow(\"Webcam\", drawn_img)\n",
    "        \n",
    "    if cv.waitKey(1) & 0xFF == ord('q'):\n",
    "        break\n",
    "    \n",
    "cap.release()\n",
    "cv.destroyAllWindows()"
   ]
  },
  {
   "cell_type": "code",
   "execution_count": 7,
   "id": "9aa49488",
   "metadata": {},
   "outputs": [
    {
     "ename": "ModuleNotFoundError",
     "evalue": "No module named 'torch'",
     "output_type": "error",
     "traceback": [
      "\u001b[0;31m---------------------------------------------------------------------------\u001b[0m",
      "\u001b[0;31mModuleNotFoundError\u001b[0m                       Traceback (most recent call last)",
      "Input \u001b[0;32mIn [7]\u001b[0m, in \u001b[0;36m<cell line: 1>\u001b[0;34m()\u001b[0m\n\u001b[0;32m----> 1\u001b[0m \u001b[38;5;28;01mimport\u001b[39;00m \u001b[38;5;21;01mtorch\u001b[39;00m\n",
      "\u001b[0;31mModuleNotFoundError\u001b[0m: No module named 'torch'"
     ]
    }
   ],
   "source": [
    "import torch"
   ]
  },
  {
   "cell_type": "code",
   "execution_count": null,
   "id": "2db38fa7",
   "metadata": {},
   "outputs": [],
   "source": []
  },
  {
   "cell_type": "code",
   "execution_count": null,
   "id": "e7e127d4",
   "metadata": {},
   "outputs": [],
   "source": []
  }
 ],
 "metadata": {
  "kernelspec": {
   "display_name": "Python 3 (ipykernel)",
   "language": "python",
   "name": "python3"
  },
  "language_info": {
   "codemirror_mode": {
    "name": "ipython",
    "version": 3
   },
   "file_extension": ".py",
   "mimetype": "text/x-python",
   "name": "python",
   "nbconvert_exporter": "python",
   "pygments_lexer": "ipython3",
   "version": "3.9.12"
  }
 },
 "nbformat": 4,
 "nbformat_minor": 5
}
