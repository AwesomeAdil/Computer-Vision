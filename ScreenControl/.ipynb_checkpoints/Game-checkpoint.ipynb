{
 "cells": [
  {
   "cell_type": "code",
   "execution_count": 1,
   "id": "9033c773",
   "metadata": {},
   "outputs": [],
   "source": [
    "import torch\n",
    "from matplotlib import pyplot as plt\n",
    "import numpy as np\n",
    "import cv2 as cv\n",
    "import pyautogui"
   ]
  },
  {
   "cell_type": "code",
   "execution_count": 3,
   "id": "dbda7d54",
   "metadata": {},
   "outputs": [
    {
     "name": "stderr",
     "output_type": "stream",
     "text": [
      "YOLOv5 🚀 v7.0-53-g65071da Python-3.9.12 torch-1.13.1 CPU\n",
      "\n",
      "Downloading https://github.com/ultralytics/yolov5/releases/download/v7.0/yolov5s.pt to yolov5s.pt...\n"
     ]
    },
    {
     "data": {
      "application/vnd.jupyter.widget-view+json": {
       "model_id": "e4d491a14a1745feaed8a6aaac4dded9",
       "version_major": 2,
       "version_minor": 0
      },
      "text/plain": [
       "  0%|          | 0.00/14.1M [00:00<?, ?B/s]"
      ]
     },
     "metadata": {},
     "output_type": "display_data"
    },
    {
     "name": "stderr",
     "output_type": "stream",
     "text": [
      "\n",
      "Fusing layers... \n",
      "YOLOv5s summary: 213 layers, 7225885 parameters, 0 gradients\n",
      "Adding AutoShape... \n"
     ]
    }
   ],
   "source": [
    "model = torch.hub.load('../yolov5', 'yolov5s', source='local')"
   ]
  },
  {
   "cell_type": "code",
   "execution_count": null,
   "id": "1a0b564a",
   "metadata": {},
   "outputs": [],
   "source": [
    "while True:\n",
    "    screen = pyautogui.screenshot()\n",
    "    screen_array = np.array(screen)\n",
    "    # height, width, channels\n",
    "    cropped_region = screen_array[1225:2400, 1225:2400, :]\n",
    "    #convert to BGR\n",
    "    corrected_colors = cv.cvtColor(cropped_region, cv.COLOR_RGB2BGR)\n",
    "    \n",
    "    results = model(corrected_colors)\n",
    "    cv.imshow('YOLO', np.squeeze(results.render()))\n",
    "    cv.waitKey(1)\n",
    "#     if cv.waitKey(1) & 0xFF == ord('q'):\n",
    "#         break\n",
    "cv.destroyAllWindows()"
   ]
  },
  {
   "cell_type": "code",
   "execution_count": null,
   "id": "057beb01",
   "metadata": {},
   "outputs": [],
   "source": [
    "import uuid\n",
    "import os\n",
    "import time"
   ]
  },
  {
   "cell_type": "code",
   "execution_count": null,
   "id": "a9d3bb05",
   "metadata": {},
   "outputs": [],
   "source": [
    "IMAGES_PATH = os.path.join('data', 'images')\n",
    "number_imgs = 100"
   ]
  },
  {
   "cell_type": "code",
   "execution_count": null,
   "id": "eac10a40",
   "metadata": {},
   "outputs": [],
   "source": [
    "for img_num in range(number_imgs):\n",
    "    print('Collecting image number {}'.format(img_num))\n",
    "    screen = pyautogui.screenshot()\n",
    "    screen_array = np.array(screen)\n",
    "    cropped_region = screen_array[625:2400, 625:2400, :]\n",
    "    corrected_colors = cv.cvtColor(cropped_region, cv.COLOR_RGB2BGR)\n",
    "    results = model(corrected_colors)\n",
    "    cv.imshow('YOLO', np.squeeze(results.render()))\n",
    "    cv.waitKey(1)"
   ]
  },
  {
   "cell_type": "code",
   "execution_count": null,
   "id": "482eb4b0",
   "metadata": {},
   "outputs": [],
   "source": []
  },
  {
   "cell_type": "code",
   "execution_count": null,
   "id": "86a41663",
   "metadata": {},
   "outputs": [],
   "source": []
  }
 ],
 "metadata": {
  "kernelspec": {
   "display_name": "Python 3 (ipykernel)",
   "language": "python",
   "name": "python3"
  },
  "language_info": {
   "codemirror_mode": {
    "name": "ipython",
    "version": 3
   },
   "file_extension": ".py",
   "mimetype": "text/x-python",
   "name": "python",
   "nbconvert_exporter": "python",
   "pygments_lexer": "ipython3",
   "version": "3.9.12"
  }
 },
 "nbformat": 4,
 "nbformat_minor": 5
}
