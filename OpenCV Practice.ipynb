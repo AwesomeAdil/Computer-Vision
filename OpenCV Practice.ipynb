{
 "cells": [
  {
   "cell_type": "code",
   "execution_count": 1,
   "id": "5faa69b2",
   "metadata": {},
   "outputs": [],
   "source": [
    "import cv2 as cv\n",
    "import numpy as np\n",
    "import torch"
   ]
  },
  {
   "cell_type": "code",
   "execution_count": 4,
   "id": "8ef8087a",
   "metadata": {},
   "outputs": [
    {
     "name": "stderr",
     "output_type": "stream",
     "text": [
      "Using cache found in /Users/adilbhatti/.cache/torch/hub/ultralytics_yolov3_master\n",
      "YOLOv3 🚀 2022-12-26 torch 1.12.1 CPU\n",
      "\n",
      "Fusing layers... \n",
      "Model Summary: 261 layers, 61922845 parameters, 0 gradients\n",
      "Adding AutoShape... \n"
     ]
    }
   ],
   "source": [
    "model = torch.hub.load('ultralytics/yolov3', 'yolov3')  # or yolov3-spp, yolov3-tiny, custom\n",
    "obj_detect = ObjectDetection()\n",
    "obj_detect.setModelTypeAsYOLOv3()"
   ]
  },
  {
   "cell_type": "code",
   "execution_count": 2,
   "id": "dc0e9ed7",
   "metadata": {},
   "outputs": [],
   "source": [
    "capture = cv.VideoCapture(0)\n",
    "_, prev = capture.read()\n",
    "prev = cv.resize(prev, (prev.shape[1] // 2, prev.shape[0] // 2))\n",
    "prev = cv.cvtColor(prev, cv.COLOR_BGR2GRAY)\n",
    "while True:\n",
    "    ret, frame = capture.read()\n",
    "    roi = cv.resize(frame, (frame.shape[1] // 2, frame.shape[0] // 2))\n",
    "    gray = cv.cvtColor(roi, cv.COLOR_BGR2GRAY)\n",
    "    sub = cv.subtract(gray, prev)\n",
    "    _, thresh = cv.threshold(sub,80,255,cv.THRESH_BINARY)\n",
    "    M = cv.moments(thresh)\n",
    "    cX = int(M[\"m10\"] / M[\"m00\"] if M[\"m00\"] else 0.00001)\n",
    "    cY = int(M[\"m01\"] / M[\"m00\"] if M[\"m00\"] else 0.00001)\n",
    " \n",
    "    # put text and highlight the center\n",
    "    cv.circle(roi, (cX, cY), 5, (0, 255, 0), -1)\n",
    "    cv.imshow('sub', thresh)\n",
    "    cv.imshow('gray', gray)\n",
    "    cv.imshow('webcam', roi)\n",
    "    prev = gray\n",
    "    if cv.waitKey(1) & 0xFF == ord('q'):\n",
    "        break\n",
    "capture.release()\n",
    "cv.destroyAllWindows()"
   ]
  },
  {
   "cell_type": "code",
   "execution_count": 7,
   "id": "9a56c5d8",
   "metadata": {},
   "outputs": [
    {
     "name": "stderr",
     "output_type": "stream",
     "text": [
      "/Users/adilbhatti/miniconda3/lib/python3.9/subprocess.py:1052: ResourceWarning: subprocess 2848 is still running\n",
      "  _warn(\"subprocess %s is still running\" % self.pid,\n",
      "ResourceWarning: Enable tracemalloc to get the object allocation traceback\n",
      "/Users/adilbhatti/miniconda3/lib/python3.9/subprocess.py:1052: ResourceWarning: subprocess 2850 is still running\n",
      "  _warn(\"subprocess %s is still running\" % self.pid,\n",
      "ResourceWarning: Enable tracemalloc to get the object allocation traceback\n"
     ]
    }
   ],
   "source": [
    "dir = 'https://github.com/ultralytics/yolov5/raw/master/data/images/'\n",
    "\n",
    "imgs = [dir + f for f in ('zidane.jpg', 'bus.jpg')]  # batch of images\n",
    "\n",
    "# Inference\n",
    "results = model(imgs)\n",
    "for img in imgs:\n",
    "    new_img = cv.cvtColor(img, cv.COLOR_BGR2RGB)\n",
    "    cv.imshow(\"a\", new_img)\n",
    "results.show()  # or .show(), .save()"
   ]
  },
  {
   "cell_type": "code",
   "execution_count": 5,
   "id": "4c0b7383",
   "metadata": {},
   "outputs": [],
   "source": [
    "from imageai.Detection import VideoObjectDetection\n",
    "vid_obj_detect = VideoObjectDetection()\n",
    "vid_obj_detect.setModelTypeAsYOLOv3()"
   ]
  },
  {
   "cell_type": "code",
   "execution_count": 8,
   "id": "7163fc83",
   "metadata": {},
   "outputs": [
    {
     "ename": "SyntaxError",
     "evalue": "invalid syntax (1978746843.py, line 1)",
     "output_type": "error",
     "traceback": [
      "\u001b[0;36m  Input \u001b[0;32mIn [8]\u001b[0;36m\u001b[0m\n\u001b[0;31m    git clone https://github.com/pjreddie/darknet\u001b[0m\n\u001b[0m        ^\u001b[0m\n\u001b[0;31mSyntaxError\u001b[0m\u001b[0;31m:\u001b[0m invalid syntax\n"
     ]
    }
   ],
   "source": []
  },
  {
   "cell_type": "markdown",
   "id": "071d6a8c",
   "metadata": {},
   "source": [
    "### Object Tracking (Removing Background)"
   ]
  },
  {
   "cell_type": "code",
   "execution_count": 2,
   "id": "0b753913",
   "metadata": {},
   "outputs": [],
   "source": [
    "capture = cv.VideoCapture(0)\n",
    "lower_red = np.array([0, 0, 120])\n",
    "upper_red = np.array([38, 38, 255])\n",
    "while True:\n",
    "\n",
    "    ret, frame = capture.read(0)\n",
    "    roi = cv.resize(frame, (frame.shape[1] // 3, frame.shape[0] // 3))\n",
    "    blank = np.zeros(roi.shape, dtype=np.uint8)\n",
    "    gray = cv.cvtColor(roi, cv.COLOR_BGR2GRAY)\n",
    "    hsv = cv.cvtColor(roi, cv.COLOR_BGR2HSV)\n",
    "    _, masked = cv.threshold(gray, 125, 255, cv.THRESH_BINARY)\n",
    "    masked = cv.bitwise_not(masked)\n",
    "    contours, _ = cv.findContours(masked, cv.RETR_LIST, cv.CHAIN_APPROX_SIMPLE)\n",
    "    for index, contour in enumerate(contours):\n",
    "        if cv.contourArea(contour) > 300:\n",
    "            cv.drawContours(blank, contours, index, (0,0,0), 3)\n",
    "            \n",
    "    #mask = cv.inRange(hsv, lower_red, upper_red)\n",
    "#     annotated_image, preds = obj_detect.detectObjectsFromImage(input_image=roi,\n",
    "#                     input_type=\"array\",\n",
    "#                     output_type=\"array\",\n",
    "#                     display_percentage_probability=False,\n",
    "#                     display_object_name=True)\n",
    "    cv.imshow('webcam', hsv)\n",
    "    cv.imshow('masked', masked)\n",
    "    if cv.waitKey(1) & 0xFF == ord('q'):\n",
    "        break\n",
    "capture.release()\n",
    "cv.destroyAllWindows()"
   ]
  },
  {
   "cell_type": "code",
   "execution_count": 7,
   "id": "6f125131",
   "metadata": {},
   "outputs": [
    {
     "name": "stdout",
     "output_type": "stream",
     "text": [
      "Collecting Cython\n",
      "  Using cached Cython-0.29.32-py2.py3-none-any.whl (986 kB)\n",
      "Installing collected packages: Cython\n",
      "Successfully installed Cython-0.29.32\n",
      "Note: you may need to restart the kernel to use updated packages.\n"
     ]
    }
   ],
   "source": [
    "pip install Cython"
   ]
  },
  {
   "cell_type": "code",
   "execution_count": 8,
   "id": "c4e7ba47",
   "metadata": {},
   "outputs": [
    {
     "ename": "SyntaxError",
     "evalue": "invalid syntax (3920981706.py, line 1)",
     "output_type": "error",
     "traceback": [
      "\u001b[0;36m  Input \u001b[0;32mIn [8]\u001b[0;36m\u001b[0m\n\u001b[0;31m    git clone https://github.com/IntelRealSense/librealsense.git\u001b[0m\n\u001b[0m        ^\u001b[0m\n\u001b[0;31mSyntaxError\u001b[0m\u001b[0;31m:\u001b[0m invalid syntax\n"
     ]
    }
   ],
   "source": []
  },
  {
   "cell_type": "code",
   "execution_count": null,
   "id": "bdae3b88",
   "metadata": {},
   "outputs": [],
   "source": []
  }
 ],
 "metadata": {
  "kernelspec": {
   "display_name": "Python 3 (ipykernel)",
   "language": "python",
   "name": "python3"
  },
  "language_info": {
   "codemirror_mode": {
    "name": "ipython",
    "version": 3
   },
   "file_extension": ".py",
   "mimetype": "text/x-python",
   "name": "python",
   "nbconvert_exporter": "python",
   "pygments_lexer": "ipython3",
   "version": "3.9.12"
  }
 },
 "nbformat": 4,
 "nbformat_minor": 5
}
