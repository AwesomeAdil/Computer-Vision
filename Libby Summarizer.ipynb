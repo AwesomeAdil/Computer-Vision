{
 "cells": [
  {
   "cell_type": "code",
   "execution_count": 1,
   "id": "9fe68dc5",
   "metadata": {},
   "outputs": [],
   "source": [
    "import cv2 as cv\n",
    "import numpy as np\n",
    "import pytesseract\n",
    "from transformers import pipeline\n",
    "from transformers import PegasusTokenizer, PegasusForConditionalGeneration\n",
    "#summarizer = pipeline('summarization')\n",
    "model_name = \"google/pegasus-xsum\"\n",
    "tokenizer = PegasusTokenizer.from_pretrained(model_name)\n",
    "model = PegasusForConditionalGeneration.from_pretrained(model_name)"
   ]
  },
  {
   "cell_type": "code",
   "execution_count": 2,
   "id": "ca9bc9f9",
   "metadata": {},
   "outputs": [],
   "source": [
    "def findPoints(contour):\n",
    "    epsilon = 0.02*cv.arcLength(a, True)\n",
    "    approx = cv.approxPolyDP(a, epsilon, True)\n",
    "    if len(approx) != 4:\n",
    "        return False, None\n",
    "    if len(approx) == 4:\n",
    "        draw.append(a)\n",
    "        points = approx.reshape((4, 2))\n",
    "        pointsNew = np.zeros((4, 1, 2), np.int32)\n",
    "        add = points.sum(1)\n",
    "        diff = np.diff(points, axis = 1)\n",
    "        pointsNew[0] = points[np.argmin(add)]\n",
    "        pointsNew[1] = points[np.argmin(diff)]\n",
    "        pointsNew[2] = points[np.argmax(diff)]         \n",
    "        pointsNew[3] = points[np.argmax(add)]\n",
    "        return True, pointsNew"
   ]
  },
  {
   "cell_type": "code",
   "execution_count": 3,
   "id": "e71ad1a8",
   "metadata": {},
   "outputs": [],
   "source": [
    "def getContours(frame, top):\n",
    "    imgray = cv.cvtColor(frame, cv.COLOR_BGR2GRAY)\n",
    "    _, thresh = cv.threshold(imgray, 100, 255, 0)\n",
    "    contours, hierarchy = cv.findContours(thresh, cv.RETR_TREE, cv.CHAIN_APPROX_SIMPLE)\n",
    "    acceptable = sorted(contours, key = cv.contourArea, reverse=True)\n",
    "    return tuple(acceptable[:top])"
   ]
  },
  {
   "cell_type": "code",
   "execution_count": 4,
   "id": "70ffcaa4",
   "metadata": {},
   "outputs": [],
   "source": [
    "def screenDisplay(morphs, frame):\n",
    "    points_A = np.float32(morphs[0])\n",
    "    points_B = np.float32([[0,0], [700,0], [0,1200], [700,1200]])\n",
    "    M = cv.getPerspectiveTransform(points_A, points_B)\n",
    "    warped = cv.warpPerspective(frame, M, (700,1200))\n",
    "    warpedgray = cv.cvtColor(warped, cv.COLOR_BGR2GRAY)\n",
    "    _, thresher = cv.threshold(warpedgray, 180, 255, 0)\n",
    "    kernel_sharpening = np.array([[-1,-1,-1], \n",
    "                                 [-1,9,-1], \n",
    "                                 [-1,-1,-1]])\n",
    "    return cv.filter2D(thresher, -1, kernel_sharpening)"
   ]
  },
  {
   "cell_type": "code",
   "execution_count": 5,
   "id": "24dc1580",
   "metadata": {},
   "outputs": [
    {
     "name": "stdout",
     "output_type": "stream",
     "text": [
      "Martha and George were raising.\n",
      "(Martha's son Jacky had four children\n",
      "before he died, and the two youngest.\n",
      "ten-year-old Eleanor Parke Custis”\n",
      "called -Nelly”—and eight-year-old\n",
      "George Washington Parke Custis—\n",
      "called -wWashy”—bad moved in with the\n",
      "Washingtons) Ona already knew that\n",
      "during her “free” time. she would be\n",
      "bel ping Moll with the grandchildren.\n",
      "Likely, she never thought her life in\n",
      "New York would be anything but ex-\n",
      "hansting. It was 3 privilege of freedom\n",
      "to be able to think about things like\n",
      "ralking to 2 friend, enjoying leisure\n",
      "time, oF appreciating the curiosities of\n",
      "a new City-\n",
      "The other slaves chosen to go to New\n",
      "York were all male Besides William\n",
      "Lee (who was already in New York with\n",
      "the president. qwo men, aamed Giles\n",
      "aod Pease erere | ing to serve as postil-\n",
      "ooh iets een bingrons. That is, they\n",
      "— , 2 SOT carriages\n",
      ", ber slaves\n",
      "York were\n",
      "sie\n",
      "r ae: be waiters\n",
      "v i doed by\n",
      "~ y that Christo-\n",
      ". ” fy,member\n",
      "gary choice.\n",
      "ee\n",
      "m7 a\n",
      "------ SUMMARY ------\n",
      "\n",
      "The slaves chosen to go to New York were all female.\n"
     ]
    }
   ],
   "source": [
    "cap = cv.VideoCapture(0)\n",
    "while cap.isOpened():\n",
    "    ret, frame = cap.read()\n",
    "    acceptable = getContours(frame, 2)\n",
    "    draw = []\n",
    "    morphs = []\n",
    "    for a in acceptable:\n",
    "            available, points = findPoints(a)\n",
    "            if available:\n",
    "                morphs.append(points)\n",
    "                for loc in points:\n",
    "                    cv.circle(frame, loc[0], 15, (0, 0, 255), -1)\n",
    "        \n",
    "    if ret:\n",
    "        cv.drawContours(frame, tuple(draw), -1, (0,255,0), 3)\n",
    "        cv.imshow(\"Shapes\", frame)\n",
    "        if draw:\n",
    "            sharpened = screenDisplay(morphs, frame)\n",
    "            cv.imshow('sharpened', sharpened)\n",
    "    if cv.waitKey(1) & 0xFF  == ord('q'):\n",
    "        break\n",
    "    elif cv.waitKey(1) & 0xFF  == ord(' '):\n",
    "        text = pytesseract.image_to_string(sharpened, lang='eng', config='--psm 6 --oem 3')\n",
    "        text = text.rstrip('\\n')\n",
    "        print(text)\n",
    "        \n",
    "        input_ids = tokenizer.encode(text, return_tensors='pt') #pytorch\n",
    "        output = model.generate(input_ids, max_length=55, num_beams=5, early_stopping=True)\n",
    "        summary = tokenizer.decode(output[0], skip_special_tokens=True)\n",
    "\n",
    "        #summary = summarizer(text, max_length=130, min_length=15, do_sample=False)\n",
    "        print(3*\"--\" + \" SUMMARY \" + 3*\"--\")\n",
    "        print('\\n' + summary)\n",
    "        \n",
    "        break\n",
    "        \n",
    "cap.release()\n",
    "cv.destroyAllWindows()\n"
   ]
  },
  {
   "cell_type": "code",
   "execution_count": null,
   "id": "01b78d17",
   "metadata": {},
   "outputs": [],
   "source": []
  }
 ],
 "metadata": {
  "kernelspec": {
   "display_name": "Python 3 (ipykernel)",
   "language": "python",
   "name": "python3"
  },
  "language_info": {
   "codemirror_mode": {
    "name": "ipython",
    "version": 3
   },
   "file_extension": ".py",
   "mimetype": "text/x-python",
   "name": "python",
   "nbconvert_exporter": "python",
   "pygments_lexer": "ipython3",
   "version": "3.9.12"
  }
 },
 "nbformat": 4,
 "nbformat_minor": 5
}
